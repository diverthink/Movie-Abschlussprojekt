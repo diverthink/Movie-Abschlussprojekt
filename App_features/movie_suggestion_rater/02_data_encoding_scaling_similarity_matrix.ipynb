{
 "cells": [
  {
   "cell_type": "markdown",
   "metadata": {},
   "source": [
    "# Informationen für dieses Notebook\n",
    "\n",
    "Dieses .ipnynb dient dazu, um den Datensatz zu encoden und zu scalen, um eine similarity-matrix zu erstellen, welche danach in dem .ipynb \"suggestion_rating_prediction\" genutzt werden kann, um Filmvorschläge zu machen, welche der Nutzer kennt und welche er dann individuell bewerten kann."
   ]
  },
  {
   "cell_type": "code",
   "execution_count": 1,
   "metadata": {},
   "outputs": [],
   "source": [
    "import pandas as pd\n",
    "import numpy as np\n",
    "import matplotlib.pyplot as plt\n",
    "import seaborn as sns\n",
    "import ast  # Um Strings wieder in Listen zu konvertieren\n",
    "import random"
   ]
  },
  {
   "cell_type": "code",
   "execution_count": 2,
   "metadata": {},
   "outputs": [],
   "source": [
    "%matplotlib inline\n",
    "sns.set_theme(style=\"darkgrid\", palette=\"bright\", context=\"paper\")"
   ]
  },
  {
   "cell_type": "code",
   "execution_count": 3,
   "metadata": {},
   "outputs": [],
   "source": [
    "# Maximale Anzahl an Spalten und Breite festlegen\n",
    "pd.set_option('display.max_columns', None)  # Zeigt alle Spalten an\n",
    "pd.set_option('display.width', 1000)  # Breite des Outputs in Zeichen"
   ]
  },
  {
   "cell_type": "code",
   "execution_count": 4,
   "metadata": {},
   "outputs": [
    {
     "data": {
      "text/html": [
       "<div>\n",
       "<style scoped>\n",
       "    .dataframe tbody tr th:only-of-type {\n",
       "        vertical-align: middle;\n",
       "    }\n",
       "\n",
       "    .dataframe tbody tr th {\n",
       "        vertical-align: top;\n",
       "    }\n",
       "\n",
       "    .dataframe thead th {\n",
       "        text-align: right;\n",
       "    }\n",
       "</style>\n",
       "<table border=\"1\" class=\"dataframe\">\n",
       "  <thead>\n",
       "    <tr style=\"text-align: right;\">\n",
       "      <th></th>\n",
       "      <th>title</th>\n",
       "      <th>year</th>\n",
       "      <th>duration</th>\n",
       "      <th>rating</th>\n",
       "      <th>directors</th>\n",
       "      <th>writers</th>\n",
       "      <th>stars</th>\n",
       "      <th>genres</th>\n",
       "      <th>countries_origin</th>\n",
       "      <th>production_companies</th>\n",
       "      <th>languages</th>\n",
       "      <th>wins</th>\n",
       "      <th>nominations</th>\n",
       "      <th>oscars</th>\n",
       "      <th>mpa_category</th>\n",
       "    </tr>\n",
       "  </thead>\n",
       "  <tbody>\n",
       "    <tr>\n",
       "      <th>0</th>\n",
       "      <td>Jaws</td>\n",
       "      <td>1975</td>\n",
       "      <td>124.0</td>\n",
       "      <td>8.1</td>\n",
       "      <td>[Steven Spielberg]</td>\n",
       "      <td>[Peter Benchley, Carl Gottlieb]</td>\n",
       "      <td>[Roy Scheider, Robert Shaw, Richard Dreyfuss]</td>\n",
       "      <td>[Horror, Abenteuer, Drama, Thriller]</td>\n",
       "      <td>[United States]</td>\n",
       "      <td>[Zanuck/Brown Productions, Universal Pictures]</td>\n",
       "      <td>[English]</td>\n",
       "      <td>0</td>\n",
       "      <td>20</td>\n",
       "      <td>0</td>\n",
       "      <td>Parental Guidance (+13)</td>\n",
       "    </tr>\n",
       "    <tr>\n",
       "      <th>1</th>\n",
       "      <td>The Rocky Horror Picture Show</td>\n",
       "      <td>1975</td>\n",
       "      <td>100.0</td>\n",
       "      <td>7.4</td>\n",
       "      <td>[Jim Sharman]</td>\n",
       "      <td>[Richard O'Brien, Jim Sharman]</td>\n",
       "      <td>[Tim Curry, Susan Sarandon, Barry Bostwick]</td>\n",
       "      <td>[Horror, Komödie, Musik und Tanz]</td>\n",
       "      <td>[United Kingdom, United States]</td>\n",
       "      <td>[Twentieth Century Fox, Michael White Producti...</td>\n",
       "      <td>[English]</td>\n",
       "      <td>0</td>\n",
       "      <td>4</td>\n",
       "      <td>0</td>\n",
       "      <td>Mature Audiences (+18)</td>\n",
       "    </tr>\n",
       "    <tr>\n",
       "      <th>2</th>\n",
       "      <td>One Flew Over the Cuckoo's Nest</td>\n",
       "      <td>1975</td>\n",
       "      <td>133.0</td>\n",
       "      <td>8.7</td>\n",
       "      <td>[Milos Forman]</td>\n",
       "      <td>[Lawrence Hauben, Bo Goldman, Ken Kesey]</td>\n",
       "      <td>[Jack Nicholson, Louise Fletcher, Michael Berr...</td>\n",
       "      <td>[Drama]</td>\n",
       "      <td>[United States]</td>\n",
       "      <td>[Fantasy Films, N.V. Zvaluw]</td>\n",
       "      <td>[English]</td>\n",
       "      <td>0</td>\n",
       "      <td>15</td>\n",
       "      <td>0</td>\n",
       "      <td>Mature Audiences (+18)</td>\n",
       "    </tr>\n",
       "    <tr>\n",
       "      <th>3</th>\n",
       "      <td>Dog Day Afternoon</td>\n",
       "      <td>1975</td>\n",
       "      <td>125.0</td>\n",
       "      <td>8.0</td>\n",
       "      <td>[Sidney Lumet]</td>\n",
       "      <td>[Frank Pierson, P.F. Kluge, Thomas Moore]</td>\n",
       "      <td>[Al Pacino, John Cazale, Penelope Allen]</td>\n",
       "      <td>[Krimi, Drama, Thriller]</td>\n",
       "      <td>[United States]</td>\n",
       "      <td>[Warner Bros., Artists Entertainment Complex]</td>\n",
       "      <td>[English]</td>\n",
       "      <td>0</td>\n",
       "      <td>20</td>\n",
       "      <td>0</td>\n",
       "      <td>Mature Audiences (+18)</td>\n",
       "    </tr>\n",
       "    <tr>\n",
       "      <th>4</th>\n",
       "      <td>Shampoo</td>\n",
       "      <td>1975</td>\n",
       "      <td>110.0</td>\n",
       "      <td>6.4</td>\n",
       "      <td>[Hal Ashby]</td>\n",
       "      <td>[Robert Towne, Warren Beatty]</td>\n",
       "      <td>[Warren Beatty, Julie Christie, Goldie Hawn]</td>\n",
       "      <td>[Drama, Komödie]</td>\n",
       "      <td>[United States]</td>\n",
       "      <td>[Persky-Bright / Vista, Columbia Pictures, Rub...</td>\n",
       "      <td>[English]</td>\n",
       "      <td>0</td>\n",
       "      <td>11</td>\n",
       "      <td>0</td>\n",
       "      <td>Mature Audiences (+18)</td>\n",
       "    </tr>\n",
       "  </tbody>\n",
       "</table>\n",
       "</div>"
      ],
      "text/plain": [
       "                             title  year  duration  rating           directors                                    writers                                              stars                                genres                 countries_origin                               production_companies  languages  wins  nominations  oscars             mpa_category\n",
       "0                             Jaws  1975     124.0     8.1  [Steven Spielberg]            [Peter Benchley, Carl Gottlieb]      [Roy Scheider, Robert Shaw, Richard Dreyfuss]  [Horror, Abenteuer, Drama, Thriller]                  [United States]     [Zanuck/Brown Productions, Universal Pictures]  [English]     0           20       0  Parental Guidance (+13)\n",
       "1    The Rocky Horror Picture Show  1975     100.0     7.4       [Jim Sharman]             [Richard O'Brien, Jim Sharman]        [Tim Curry, Susan Sarandon, Barry Bostwick]     [Horror, Komödie, Musik und Tanz]  [United Kingdom, United States]  [Twentieth Century Fox, Michael White Producti...  [English]     0            4       0   Mature Audiences (+18)\n",
       "2  One Flew Over the Cuckoo's Nest  1975     133.0     8.7      [Milos Forman]   [Lawrence Hauben, Bo Goldman, Ken Kesey]  [Jack Nicholson, Louise Fletcher, Michael Berr...                               [Drama]                  [United States]                       [Fantasy Films, N.V. Zvaluw]  [English]     0           15       0   Mature Audiences (+18)\n",
       "3                Dog Day Afternoon  1975     125.0     8.0      [Sidney Lumet]  [Frank Pierson, P.F. Kluge, Thomas Moore]           [Al Pacino, John Cazale, Penelope Allen]              [Krimi, Drama, Thriller]                  [United States]      [Warner Bros., Artists Entertainment Complex]  [English]     0           20       0   Mature Audiences (+18)\n",
       "4                          Shampoo  1975     110.0     6.4         [Hal Ashby]              [Robert Towne, Warren Beatty]       [Warren Beatty, Julie Christie, Goldie Hawn]                      [Drama, Komödie]                  [United States]  [Persky-Bright / Vista, Columbia Pictures, Rub...  [English]     0           11       0   Mature Audiences (+18)"
      ]
     },
     "execution_count": 4,
     "metadata": {},
     "output_type": "execute_result"
    }
   ],
   "source": [
    "# CSV-Datei aus dem Ordner Datasets laden\n",
    "df_movie_suggestion = pd.read_csv('cleaned_movie_suggestion.csv')\n",
    "\n",
    "# CSV einlesen\n",
    "df_movie_suggestion = pd.read_csv(\"cleaned_movie_suggestion.csv\")\n",
    "\n",
    "# Spaltennamen in Kleinbuchstaben umwandeln\n",
    "df_movie_suggestion.columns = df_movie_suggestion.columns.str.lower()\n",
    "\n",
    "# Listen wiederherstellen\n",
    "list_columns = ['directors', 'writers', 'stars', 'genres', 'countries_origin', 'languages', 'production_companies']\n",
    "for col in list_columns:\n",
    "    df_movie_suggestion[col] = df_movie_suggestion[col].apply(lambda x: ast.literal_eval(x) if isinstance(x, str) else x)\n",
    "\n",
    "# DataFrame anzeigen \n",
    "df_movie_suggestion.head(5)"
   ]
  },
  {
   "cell_type": "code",
   "execution_count": null,
   "metadata": {},
   "outputs": [
    {
     "name": "stdout",
     "output_type": "stream",
     "text": [
      "✅ Backup von df_movie_suggestion gespeichert!\n"
     ]
    }
   ],
   "source": [
    "# Backup vor dem Encoding erstellen\n",
    "df_movie_pre_encoding = df_movie_suggestion.copy()\n",
    "\n",
    "# Sicherstellen, dass die Kopie erfolgreich gespeichert wurde\n",
    "print(\"✅ Backup von df_movie_suggestion gespeichert!\")"
   ]
  },
  {
   "cell_type": "markdown",
   "metadata": {},
   "source": [
    "# Encoding"
   ]
  },
  {
   "cell_type": "code",
   "execution_count": 12,
   "metadata": {},
   "outputs": [
    {
     "name": "stdout",
     "output_type": "stream",
     "text": [
      "genres\n",
      "<class 'list'>    30867\n",
      "Name: count, dtype: int64\n"
     ]
    }
   ],
   "source": [
    "import ast\n",
    "\n",
    "# Falls 'genres' als String gespeichert wurde, zurück in Listen umwandeln\n",
    "df_movie_suggestion['genres'] = df_movie_suggestion['genres'].apply(lambda x: ast.literal_eval(x) if isinstance(x, str) else x)\n",
    "\n",
    "# Falls noch `nan`-Werte vorhanden sind, ersetze sie durch leere Listen\n",
    "df_movie_suggestion['genres'] = df_movie_suggestion['genres'].apply(lambda x: x if isinstance(x, list) else [])\n",
    "\n",
    "# Test: Sind alle Genres Listen?\n",
    "print(df_movie_suggestion['genres'].apply(type).value_counts())\n"
   ]
  },
  {
   "cell_type": "markdown",
   "metadata": {},
   "source": [
    "Es wären zu viele Features wenn man alles encoded. Daher Top_K Ansatz mit folgenden Werten:"
   ]
  },
  {
   "cell_type": "code",
   "execution_count": 13,
   "metadata": {},
   "outputs": [],
   "source": [
    "top_k = {\n",
    "    'directors': 500,       # Top 500 Regisseure\n",
    "    'writers': 1000,        # Top 1000 Autoren\n",
    "    'stars': 1000,          # Top 1000 Schauspieler\n",
    "    'genres': None,         # Alle Genres (keine Reduktion nötig)\n",
    "    'countries_origin': 20, # Top 20 Länder\n",
    "    'languages': 20         # Top 20 Sprachen\n",
    "}\n"
   ]
  },
  {
   "cell_type": "markdown",
   "metadata": {},
   "source": [
    "Code zum Encoden"
   ]
  },
  {
   "cell_type": "code",
   "execution_count": 14,
   "metadata": {},
   "outputs": [
    {
     "name": "stdout",
     "output_type": "stream",
     "text": [
      "✍️ Kontrolle directors: 500 Features erstellt\n",
      "✍️ Kontrolle writers: 1000 Features erstellt\n",
      "✍️ Kontrolle stars: 1000 Features erstellt\n",
      "✍️ Kontrolle production_companies: 100 Features erstellt\n",
      "🔢 Anzahl der Spalten nach vollständigem Encoding: 2671\n"
     ]
    }
   ],
   "source": [
    "from sklearn.preprocessing import MultiLabelBinarizer, OneHotEncoder\n",
    "from sklearn.feature_extraction.text import TfidfVectorizer\n",
    "\n",
    "# Verarbeitung der Spalten\n",
    "\n",
    "# 1. Multi-Label-Spalten (genres, countries_origin, languages)\n",
    "multi_label_cols = ['genres', 'countries_origin', 'languages']\n",
    "for col in multi_label_cols:\n",
    "    mlb = MultiLabelBinarizer()\n",
    "    if top_k[col]:  # Top-K Filtern\n",
    "        top_values = df_movie_pre_encoding[col].explode().value_counts().index[:top_k[col]]\n",
    "        df_movie_pre_encoding[col] = df_movie_pre_encoding[col].apply(lambda x: [v for v in x if v in top_values])\n",
    "\n",
    "    # Multi-Hot-Encoding\n",
    "    encoded = pd.DataFrame(mlb.fit_transform(df_movie_pre_encoding[col]), columns=mlb.classes_)\n",
    "    df_movie_pre_encoding = pd.concat([df_movie_pre_encoding, encoded], axis=1)\n",
    "    df_movie_pre_encoding.drop(columns=[col], inplace=True)\n",
    "\n",
    "# 2. Textbasierte Spalten mit TF-IDF (directors, writers, stars, production_companies)\n",
    "text_cols = ['directors', 'writers', 'stars', 'production_companies']\n",
    "for col in text_cols:\n",
    "    # Listen in Strings umwandeln, wobei die Namen durch Kommas getrennt werden\n",
    "    df_movie_pre_encoding[col] = df_movie_pre_encoding[col].apply(lambda x: ','.join(x))\n",
    "    \n",
    "    # TF-IDF anwenden, wobei vollständige Namen als Einheit behandelt werden\n",
    "    tfidf = TfidfVectorizer(max_features=top_k.get(col, 100), token_pattern=r'[^,]+')  # Trennung anhand von Kommas\n",
    "    tfidf_matrix = tfidf.fit_transform(df_movie_pre_encoding[col])\n",
    "    \n",
    "    # DataFrame mit den neuen Features erstellen\n",
    "    tfidf_df = pd.DataFrame(tfidf_matrix.toarray(), columns=[f\"{col}_{feat}\" for feat in tfidf.get_feature_names_out()])\n",
    "    \n",
    "    # Kontrolle der neuen Spalten\n",
    "    print(f\"✍️ Kontrolle {col}: {len(tfidf_df.columns)} Features erstellt\")\n",
    "    \n",
    "    # Hinzufügen der kodierten Spalten und Löschen der Original-Spalte\n",
    "    df_movie_pre_encoding = pd.concat([df_movie_pre_encoding, tfidf_df], axis=1)\n",
    "    df_movie_pre_encoding.drop(columns=[col], inplace=True)\n",
    "\n",
    "\n",
    "# One-Hot-Encoding für die Spalte mpa_category\n",
    "ohe = OneHotEncoder(sparse_output=False, drop='first')  # Aktualisiert: sparse_output anstelle von sparse\n",
    "mpa_encoded = ohe.fit_transform(df_movie_pre_encoding[['mpa_category']])\n",
    "mpa_encoded_df = pd.DataFrame(mpa_encoded, columns=[f\"mpa_{cat}\" for cat in ohe.categories_[0][1:]])\n",
    "\n",
    "# Kombinieren mit dem ursprünglichen DataFrame\n",
    "df_movie_pre_encoding = pd.concat([df_movie_pre_encoding, mpa_encoded_df], axis=1)\n",
    "df_movie_pre_encoding.drop(columns=['mpa_category'], inplace=True)\n",
    "\n",
    "# 4. Numerische Spalten beibehalten (wins, nominations, oscars)\n",
    "# Diese bleiben unverändert im DataFrame\n",
    "\n",
    "# Ausgabe der finalen Spaltenanzahl\n",
    "print(f\"🔢 Anzahl der Spalten nach vollständigem Encoding: {df_movie_pre_encoding.shape[1]}\")\n",
    "\n"
   ]
  },
  {
   "cell_type": "code",
   "execution_count": null,
   "metadata": {},
   "outputs": [
    {
     "name": "stdout",
     "output_type": "stream",
     "text": [
      "✅ Test-DataFrame für Similarity-Analyse erstellt!\n"
     ]
    }
   ],
   "source": [
    "df_test_similarity = df_movie_pre_encoding.copy()\n",
    "print(\"✅ Test-DataFrame für Similarity-Analyse erstellt!\")"
   ]
  },
  {
   "cell_type": "code",
   "execution_count": null,
   "metadata": {},
   "outputs": [
    {
     "name": "stdout",
     "output_type": "stream",
     "text": [
      "✅ DataFrame wurde als 'df_test_similarity.csv' gespeichert!\n"
     ]
    }
   ],
   "source": [
    "df_test_similarity.to_csv(\"df_test_similarity.csv\", index=False)\n",
    "print(\"✅ DataFrame wurde als 'df_test_similarity.csv' gespeichert!\")"
   ]
  },
  {
   "cell_type": "markdown",
   "metadata": {},
   "source": [
    "### Skalieren für ausgewählte Parameter"
   ]
  },
  {
   "cell_type": "code",
   "execution_count": 18,
   "metadata": {},
   "outputs": [
    {
     "name": "stdout",
     "output_type": "stream",
     "text": [
      "✅ Numerische Spalten erfolgreich skaliert und im DataFrame 'df_test_similarity_scaled' gespeichert!\n"
     ]
    }
   ],
   "source": [
    "from sklearn.preprocessing import StandardScaler\n",
    "\n",
    "# Numerische Spalten, die skaliert werden sollen\n",
    "num_cols = ['year', 'duration', 'rating', 'wins', 'nominations', 'oscars']\n",
    "\n",
    "# StandardScaler anwenden\n",
    "scaler = StandardScaler()\n",
    "df_test_similarity_scaled = df_test_similarity.copy()\n",
    "df_test_similarity_scaled[num_cols] = scaler.fit_transform(df_test_similarity_scaled[num_cols])\n",
    "\n",
    "print(\"✅ Numerische Spalten erfolgreich skaliert und im DataFrame 'df_test_similarity_scaled' gespeichert!\")\n"
   ]
  },
  {
   "cell_type": "code",
   "execution_count": 20,
   "metadata": {},
   "outputs": [
    {
     "name": "stdout",
     "output_type": "stream",
     "text": [
      "Die Datei wurde erfolgreich als 'df_test_similarity_scaled.csv' gespeichert!\n"
     ]
    }
   ],
   "source": [
    "# DataFrame als CSV speichern\n",
    "df_test_similarity_scaled.to_csv('df_test_similarity_scaled.csv', index=False)\n",
    "\n",
    "print(\"Die Datei wurde erfolgreich als 'df_test_similarity_scaled.csv' gespeichert!\")"
   ]
  },
  {
   "cell_type": "markdown",
   "metadata": {},
   "source": [
    "### Similarity-Matrix (Ähnlichkeitsmatrix) erstellen"
   ]
  },
  {
   "cell_type": "code",
   "execution_count": 21,
   "metadata": {},
   "outputs": [
    {
     "name": "stdout",
     "output_type": "stream",
     "text": [
      "✅ Sparse Cosine Similarity-Matrix erfolgreich berechnet!\n"
     ]
    }
   ],
   "source": [
    "from sklearn.metrics.pairwise import cosine_similarity\n",
    "from scipy.sparse import csr_matrix\n",
    "\n",
    "# Auswahl der relevanten Spalten (ohne 'title')\n",
    "cols_for_similarity = df_test_similarity_scaled.columns.difference(['title'])\n",
    "\n",
    "# Sparse-Matrix erstellen\n",
    "sparse_data = csr_matrix(df_test_similarity_scaled[cols_for_similarity].to_numpy())\n",
    "\n",
    "# Cosine Similarity berechnen\n",
    "cosine_similarity_matrix = cosine_similarity(sparse_data, dense_output=False)\n",
    "\n",
    "# Ausgabe der Matrix (optional)\n",
    "print(\"✅ Sparse Cosine Similarity-Matrix erfolgreich berechnet!\")\n",
    "\n"
   ]
  },
  {
   "cell_type": "markdown",
   "metadata": {},
   "source": [
    "Similarity-Matrix speichern, damit man es nicht immer neu berechnen muss"
   ]
  },
  {
   "cell_type": "code",
   "execution_count": null,
   "metadata": {},
   "outputs": [
    {
     "name": "stdout",
     "output_type": "stream",
     "text": [
      "✅ Cosine Similarity-Matrix wurde erfolgreich gespeichert!\n"
     ]
    }
   ],
   "source": [
    "import pickle\n",
    "\n",
    "# Cosine Similarity-Matrix speichern mit Protocol 4\n",
    "with open(\"similarity_matrix.pkl\", \"wb\") as f:\n",
    "    pickle.dump(cosine_similarity_matrix, f, protocol=4)\n",
    "\n",
    "print(\"✅ Cosine Similarity-Matrix wurde erfolgreich gespeichert!\")"
   ]
  },
  {
   "cell_type": "markdown",
   "metadata": {},
   "source": [
    "### Weiter gehts im .ipynb \"03_suggestion_rating_prediction\""
   ]
  }
 ],
 "metadata": {
  "kernelspec": {
   "display_name": "base",
   "language": "python",
   "name": "python3"
  },
  "language_info": {
   "codemirror_mode": {
    "name": "ipython",
    "version": 3
   },
   "file_extension": ".py",
   "mimetype": "text/x-python",
   "name": "python",
   "nbconvert_exporter": "python",
   "pygments_lexer": "ipython3",
   "version": "3.12.4"
  }
 },
 "nbformat": 4,
 "nbformat_minor": 2
}
